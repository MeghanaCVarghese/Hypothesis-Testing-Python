{
 "cells": [
  {
   "cell_type": "markdown",
   "id": "755fe2dd-0ccf-4a85-ad11-4ea0656b1d68",
   "metadata": {},
   "source": [
    "### ESTIMATION AND CONFIDENCE INTERVALS"
   ]
  },
  {
   "cell_type": "markdown",
   "id": "34630ecc-1099-45ea-b097-eb123b333d53",
   "metadata": {},
   "source": [
    "#### Data \n",
    "A total of 15 print-heads were randomly selected and tested until failure. The durability of each print-head (in millions of characters) was recorded as follows: \n",
    "\n",
    "1.13, 1.55, 1.43, 0.92, 1.25, 1.36, 1.32, 0.85, 1.07, 1.48, 1.20, 1.33, 1.18, 1.22, 1.29"
   ]
  },
  {
   "cell_type": "markdown",
   "id": "dc196c2c-4ce0-4977-94d6-12dd32b7d8ce",
   "metadata": {},
   "source": [
    "#### Assignment Tasks \n",
    "##### 1)  Build 99% Confidence Interval Using Sample Standard Deviation \n",
    "\n",
    "Assuming the sample is representative of the population, construct a 99% confidence interval for the mean number of characters printed before the print-head fails using the sample standard deviation. Explain the steps you take and the rationale behind using the t-distribution for this task.\n",
    "\n",
    "##### 2) Build 99% Confidence Interval Using Known Population Standard Deviation\n",
    "\n",
    "If it were known that the population standard deviation is 0.2 million characters, construct a 99% confidence interval for the mean number of characters printed before failure."
   ]
  },
  {
   "cell_type": "markdown",
   "id": "7786af19-fba8-4728-a103-51dea21174c4",
   "metadata": {},
   "source": [
    "We will use:\n",
    "\n",
    "* t-distribution when population standard deviation is unknown (sample standard deviation used).\n",
    "\n",
    "* z-distribution when population standard deviation is known."
   ]
  },
  {
   "cell_type": "code",
   "execution_count": 14,
   "id": "ed17f7a7-6d15-4717-babf-e8e0a5ee0e0b",
   "metadata": {},
   "outputs": [],
   "source": [
    "# Confidence Intervals for Print-Head Durability\n",
    "import numpy as np\n",
    "import scipy.stats as stats"
   ]
  },
  {
   "cell_type": "code",
   "execution_count": 15,
   "id": "522b4b8a-b024-4ee9-b4f4-ae95fda0c9f5",
   "metadata": {},
   "outputs": [],
   "source": [
    "# Sample data (durability in millions of characters)\n",
    "data = np.array([1.13, 1.55, 1.43, 0.92, 1.25, 1.36, 1.32, \n",
    "                 0.85, 1.07, 1.48, 1.20, 1.33, 1.18, 1.22, 1.29])"
   ]
  },
  {
   "cell_type": "code",
   "execution_count": 16,
   "id": "7fca3f99-4eb0-45f6-af39-97a0abf0de09",
   "metadata": {},
   "outputs": [],
   "source": [
    "# Basic statistics\n",
    "n = len(data)                   # sample size\n",
    "mean = np.mean(data)            # sample mean\n",
    "s = np.std(data, ddof=1)        # sample standard deviation (ddof=1 for unbiased)"
   ]
  },
  {
   "cell_type": "code",
   "execution_count": 17,
   "id": "00f72a7a-a93f-4aa3-b50f-26c617c8ec2c",
   "metadata": {},
   "outputs": [
    {
     "name": "stdout",
     "output_type": "stream",
     "text": [
      "Sample Size (n): 15\n",
      "Sample Mean (millions): 1.2387\n",
      "Sample Std Dev (s, millions): 0.1932\n"
     ]
    }
   ],
   "source": [
    "print(\"Sample Size (n):\", n)\n",
    "print(\"Sample Mean (millions):\", round(mean, 4))\n",
    "print(\"Sample Std Dev (s, millions):\", round(s, 4))"
   ]
  },
  {
   "cell_type": "code",
   "execution_count": 18,
   "id": "ad7af1dd-989e-42dc-ab7d-51e8d00fceb5",
   "metadata": {},
   "outputs": [],
   "source": [
    "# 99% confidence\n",
    "alpha = 0.01"
   ]
  },
  {
   "cell_type": "code",
   "execution_count": 19,
   "id": "1fbe0568-cb08-441f-a40f-3501f330c17e",
   "metadata": {},
   "outputs": [
    {
     "name": "stdout",
     "output_type": "stream",
     "text": [
      "\n",
      "(a) 99% CI (t-distribution):\n",
      "  t critical (df=14): 2.9768\n",
      "  Margin of error: 0.1485\n",
      "  99% CI: (1.0902, 1.3871) million characters\n"
     ]
    }
   ],
   "source": [
    "# (a) Using t-distribution (sigma unknown)--> using sample standard deviation\n",
    "t_critical = stats.t.ppf(1 - alpha/2, df=n-1)     # two-tailed critical t\n",
    "margin_error_t = t_critical * (s / np.sqrt(n))\n",
    "\n",
    "ci_lower_t = mean - margin_error_t\n",
    "ci_upper_t = mean + margin_error_t\n",
    "\n",
    "print(\"\\n(a) 99% CI (t-distribution):\")\n",
    "print(\"  t critical (df={}): {:.4f}\".format(n-1, t_critical))\n",
    "print(\"  Margin of error:\", round(margin_error_t, 4))\n",
    "print(\"  99% CI: ({:.4f}, {:.4f}) million characters\".format(ci_lower_t, ci_upper_t))"
   ]
  },
  {
   "cell_type": "code",
   "execution_count": 20,
   "id": "4e52016f-ea51-408c-b32b-c1fa3d84417a",
   "metadata": {},
   "outputs": [
    {
     "name": "stdout",
     "output_type": "stream",
     "text": [
      "\n",
      "(b) 99% CI (z-distribution, sigma=0.2):\n",
      "  z critical: 2.5758\n",
      "  Margin of error: 0.133\n",
      "  99% CI: (1.1057, 1.3717) million characters\n"
     ]
    }
   ],
   "source": [
    "# (b) Using z-distribution (sigma known)--> using population deviation\n",
    "sigma = 0.2    # known population std dev\n",
    "z_critical = stats.norm.ppf(1 - alpha/2)\n",
    "margin_error_z = z_critical * (sigma / np.sqrt(n))\n",
    "\n",
    "ci_lower_z = mean - margin_error_z\n",
    "ci_upper_z = mean + margin_error_z\n",
    "\n",
    "print(\"\\n(b) 99% CI (z-distribution, sigma=0.2):\")\n",
    "print(\"  z critical:\", round(z_critical, 4))\n",
    "print(\"  Margin of error:\", round(margin_error_z, 4))\n",
    "print(\"  99% CI: ({:.4f}, {:.4f}) million characters\".format(ci_lower_z, ci_upper_z))\n"
   ]
  },
  {
   "cell_type": "markdown",
   "id": "712546fd-713f-4780-a005-d343131d6dda",
   "metadata": {},
   "source": [
    "##### Results (numeric)\n",
    "\n",
    "Sample size 𝑛 = 15\n",
    "Sample mean 𝑥ˉ= 1.2387 million characters\n",
    "\n",
    "Sample standard deviation 𝑠 = 0.1932 million characters\n",
    "\n",
    "##### (a) 99% CI using sample standard deviation (t-distribution, df = 14):\n",
    "\n",
    "(1.0902,1.3871) million characters\n",
    "\n",
    "##### (b) 99% CI using known population standard deviation 𝜎= 0.2(z-distribution):\n",
    "\n",
    "(1.1057,1.3717) million characters"
   ]
  },
  {
   "cell_type": "markdown",
   "id": "815b5c4c-20de-4b21-bc09-bfcf3d79f123",
   "metadata": {},
   "source": [
    "##### Short interpretation\n",
    "\n",
    "* The CI in (a) is slightly wider because we estimated the spread from the sample (using the t-distribution).\n",
    "\n",
    "* When σ is assumed known (b), the interval is a bit narrower because the z-based margin uses the known population spread."
   ]
  },
  {
   "cell_type": "markdown",
   "id": "06a7d19f-64e2-427b-94f0-6af0b5b5572f",
   "metadata": {},
   "source": [
    "                                                                                      Submitted by: Meghana C Varghese"
   ]
  }
 ],
 "metadata": {
  "kernelspec": {
   "display_name": "Python [conda env:base] *",
   "language": "python",
   "name": "conda-base-py"
  },
  "language_info": {
   "codemirror_mode": {
    "name": "ipython",
    "version": 3
   },
   "file_extension": ".py",
   "mimetype": "text/x-python",
   "name": "python",
   "nbconvert_exporter": "python",
   "pygments_lexer": "ipython3",
   "version": "3.13.5"
  }
 },
 "nbformat": 4,
 "nbformat_minor": 5
}
