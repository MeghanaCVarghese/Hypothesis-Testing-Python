{
 "cells": [
  {
   "cell_type": "markdown",
   "id": "f257eb88-1d61-4a1a-bfa6-f803d5b6fb8c",
   "metadata": {},
   "source": [
    "### Hypothesis Testing"
   ]
  },
  {
   "cell_type": "markdown",
   "id": "69dc7598-bcee-4b75-9942-3e3c499c8834",
   "metadata": {},
   "source": [
    "##### Objective:\n",
    "To investigate the restaurant owners' claim about the increase in weekly operating costs using hypothesis testing.\n",
    "\n",
    "##### Data Provided:\n",
    "●\tThe theoretical weekly operating cost model: W = $1,000 + $5X\n",
    "\n",
    "●\tSample of 25 restaurants with a mean weekly cost of Rs. 3,050\n",
    "\n",
    "●\tNumber of units produced in a week (X) follows a normal distribution with a mean (μ) of 600 units and a standard deviation (σ) of 25 units\n",
    "\n",
    "##### Assignment Tasks:\n",
    "\n",
    "1. State the Hypotheses statement:\n",
    "\n",
    "2. Calculate the Test Statistic:\n",
    "Use the following formula to calculate the test statistic(z):\n",
    "where:\n",
    "\n",
    "●\tˉxˉ = sample mean weekly cost (Rs. 3,050)\n",
    "\n",
    "●\tμ = theoretical mean weekly cost according to the cost model (W = $1,000 + $5X for X = 600 units)\n",
    "\n",
    "●\tσ = 5*25 units\n",
    "\n",
    "●\tn = sample size (25 restaurants)\n",
    "\n",
    "3. Determine the Probability and compare:\n",
    "Using the alpha level of 5% (α = 0.05),\n",
    "\n",
    "4. Make a Decision:\n",
    "Compare the test statistic with the critical value to decide whether to reject the null hypothesis.\n",
    "\n",
    "\n",
    "5. Conclusion:\n",
    "Based on the decision in step 4, conclude whether there is strong evidence to support the restaurant owners' claim that the weekly operating costs are higher than the model suggests.\n",
    "\n"
   ]
  },
  {
   "cell_type": "code",
   "execution_count": 18,
   "id": "173e0e0e-4c89-4174-8d95-4b95af8398a0",
   "metadata": {},
   "outputs": [],
   "source": [
    "# Hypothesis Testing for Weekly Operating Costs\n",
    "import math\n",
    "from scipy.stats import norm"
   ]
  },
  {
   "cell_type": "code",
   "execution_count": 19,
   "id": "1aa215c8-f0cb-43a3-9127-624ffb6567d7",
   "metadata": {},
   "outputs": [
    {
     "name": "stdout",
     "output_type": "stream",
     "text": [
      "Hypotheses\n",
      "\n",
      "H0: The mean weekly operating cost follows the model W = 1000 + 5X\n",
      "H1: The mean weekly operating cost is greater than the model (owners' claim)\n"
     ]
    }
   ],
   "source": [
    "# State the Hypotheses\n",
    "print(\"Hypotheses\\n\")\n",
    "print(\"H0: The mean weekly operating cost follows the model W = 1000 + 5X\")\n",
    "print(\"H1: The mean weekly operating cost is greater than the model (owners' claim)\")\n"
   ]
  },
  {
   "cell_type": "code",
   "execution_count": 20,
   "id": "ec414878-7085-49ac-95f3-6f14d9852327",
   "metadata": {},
   "outputs": [],
   "source": [
    "# Calculate Test Statistic\n",
    "# Given Data\n",
    "sample_mean = 3050   # x̄ = sample mean weekly cost\n",
    "X_mean = 600         # mean units produced\n",
    "X_std = 25           # std dev of units produced\n",
    "n = 25               # sample size"
   ]
  },
  {
   "cell_type": "code",
   "execution_count": 21,
   "id": "4812c244-3dd1-4d96-b1d9-60018c333257",
   "metadata": {},
   "outputs": [],
   "source": [
    "# Theoretical mean weekly cost (W = 1000 + 5X)\n",
    "mu = 1000 + 5 * X_mean\n"
   ]
  },
  {
   "cell_type": "code",
   "execution_count": 22,
   "id": "c9d662f0-e50c-4bd0-b5bf-9d2b841e6376",
   "metadata": {},
   "outputs": [],
   "source": [
    "# Standard deviation of weekly costs\n",
    "sigma = 5 * X_std\n"
   ]
  },
  {
   "cell_type": "code",
   "execution_count": 23,
   "id": "925dbc89-73bf-411b-be23-8263783ebc2d",
   "metadata": {},
   "outputs": [],
   "source": [
    "# Standard error\n",
    "se = sigma / math.sqrt(n)\n"
   ]
  },
  {
   "cell_type": "code",
   "execution_count": 24,
   "id": "2b81ab21-d9cd-40c4-9735-39853b9ec31f",
   "metadata": {},
   "outputs": [],
   "source": [
    "# Test statistic (Z-score)\n",
    "z = (sample_mean - mu) / se\n"
   ]
  },
  {
   "cell_type": "code",
   "execution_count": 25,
   "id": "c33fa5dd-131d-4586-b260-1ea2d14aa99f",
   "metadata": {},
   "outputs": [
    {
     "name": "stdout",
     "output_type": "stream",
     "text": [
      "Test Statistic\n",
      "\n",
      "Theoretical Mean (μ) = 4000\n",
      "Sample Mean (x̄) = 3050\n",
      "Standard Deviation (σ) = 125\n",
      "Sample Size (n) = 25\n",
      "Standard Error (SE) = 25.00\n",
      "Test Statistic (Z) = -38.00\n"
     ]
    }
   ],
   "source": [
    "print(\"Test Statistic\\n\")\n",
    "print(f\"Theoretical Mean (μ) = {mu}\")\n",
    "print(f\"Sample Mean (x̄) = {sample_mean}\")\n",
    "print(f\"Standard Deviation (σ) = {sigma}\")\n",
    "print(f\"Sample Size (n) = {n}\")\n",
    "print(f\"Standard Error (SE) = {se:.2f}\")\n",
    "print(f\"Test Statistic (Z) = {z:.2f}\")"
   ]
  },
  {
   "cell_type": "code",
   "execution_count": 26,
   "id": "32c44b81-8062-4b35-a735-3d2b5a417e04",
   "metadata": {},
   "outputs": [],
   "source": [
    "# Determine Probability\n",
    "alpha = 0.05\n",
    "z_critical = norm.ppf(1 - alpha)  # one-tailed test\n"
   ]
  },
  {
   "cell_type": "code",
   "execution_count": 27,
   "id": "ee99ff60-5a2f-4bf5-8238-09406a4dc720",
   "metadata": {},
   "outputs": [
    {
     "name": "stdout",
     "output_type": "stream",
     "text": [
      "Critical Value & Probability\n",
      "\n",
      "Significance Level (α) = 0.05\n",
      "Critical Z Value = 1.64\n"
     ]
    }
   ],
   "source": [
    "print(\"Critical Value & Probability\\n\")\n",
    "print(f\"Significance Level (α) = {alpha}\")\n",
    "print(f\"Critical Z Value = {z_critical:.2f}\")\n"
   ]
  },
  {
   "cell_type": "code",
   "execution_count": 28,
   "id": "1233fe18-7e7b-41b0-b96a-7502c6d806ea",
   "metadata": {},
   "outputs": [
    {
     "name": "stdout",
     "output_type": "stream",
     "text": [
      "P-value = 1.0000\n"
     ]
    }
   ],
   "source": [
    "# p-value\n",
    "p_value = 1 - norm.cdf(z)\n",
    "print(f\"P-value = {p_value:.4f}\")"
   ]
  },
  {
   "cell_type": "code",
   "execution_count": 29,
   "id": "2f15fe2f-daf6-4cd6-95fe-0779f51c90ac",
   "metadata": {},
   "outputs": [
    {
     "name": "stdout",
     "output_type": "stream",
     "text": [
      "Decision\n",
      "\n",
      "Fail to Reject H0: No strong evidence that the weekly costs are higher.\n"
     ]
    }
   ],
   "source": [
    "# Make a Decision\n",
    "print(\"Decision\\n\")\n",
    "if z > z_critical:\n",
    "    print(\"Reject H0: There is evidence that the weekly costs are higher than the model predicts.\")\n",
    "else:\n",
    "    print(\"Fail to Reject H0: No strong evidence that the weekly costs are higher.\")\n"
   ]
  },
  {
   "cell_type": "code",
   "execution_count": 31,
   "id": "4e79c193-c384-4096-adbf-1521b3864776",
   "metadata": {},
   "outputs": [
    {
     "name": "stdout",
     "output_type": "stream",
     "text": [
      "Conclusion\n",
      "\n",
      "Insufficient evidence to support the claim of higher weekly costs.\n"
     ]
    }
   ],
   "source": [
    "# Conclusion\n",
    "print(\"Conclusion\\n\")\n",
    "if z > z_critical:\n",
    "    print(\"Strong evidence supports the restaurant owners' claim of higher weekly costs.\")\n",
    "else:\n",
    "    print(\"Insufficient evidence to support the claim of higher weekly costs.\")\n"
   ]
  },
  {
   "cell_type": "markdown",
   "id": "a6230986-cc47-4c6f-bf59-b663c9847811",
   "metadata": {},
   "source": [
    "                                                              Submitted by: Meghana C Varghese"
   ]
  },
  {
   "cell_type": "code",
   "execution_count": null,
   "id": "d28c4b97-7ce2-4ada-8dbd-73ae72687a65",
   "metadata": {},
   "outputs": [],
   "source": []
  }
 ],
 "metadata": {
  "kernelspec": {
   "display_name": "Python [conda env:base] *",
   "language": "python",
   "name": "conda-base-py"
  },
  "language_info": {
   "codemirror_mode": {
    "name": "ipython",
    "version": 3
   },
   "file_extension": ".py",
   "mimetype": "text/x-python",
   "name": "python",
   "nbconvert_exporter": "python",
   "pygments_lexer": "ipython3",
   "version": "3.13.5"
  }
 },
 "nbformat": 4,
 "nbformat_minor": 5
}
